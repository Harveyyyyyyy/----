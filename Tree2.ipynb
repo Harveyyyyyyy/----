{
 "cells": [
  {
   "cell_type": "code",
   "execution_count": 1,
   "metadata": {},
   "outputs": [
    {
     "name": "stdout",
     "output_type": "stream",
     "text": [
      "   ID                    Title Subject\n",
      "0   0     甲午中日战争至甲辰日俄战争期间东北亚局势    人文地理\n",
      "1   1           以事业为己任——记周光复教授    人文地理\n",
      "2   2         大饥荒年代非正常死亡的另一种计算    人文地理\n",
      "3   3               鲁迅小说中的女性世界    人文地理\n",
      "4   4  基于语料库的英汉光亮类词语研究：认知语义学视角    人文地理\n",
      "['甲午中日战争至甲辰日俄战争期间东北亚局势', '以事业为己任——记周光复教授', '大饥荒年代非正常死亡的另一种计算', '鲁迅小说中的女性世界', '基于语料库的英汉光亮类词语研究：认知语义学视角', '按摩院里盲人师傅的心酸幽默话', '骆家辉:开动美国经济引擎的华裔部长', '南北朝时期民族迁移引起的语音变迁——以晋代吴方言的韵母为例', '宋代女性文学中食物意象的审美文化阐释——评《华夏饮食文化》', '一举多得的“城市作业本”']\n"
     ]
    }
   ],
   "source": [
    "from sklearn import tree\n",
    "import pandas as pd\n",
    "import numpy as np\n",
    "import matplotlib.pyplot as plt\n",
    "import jieba.analyse#用于分词\n",
    "from sklearn.model_selection import train_test_split#用于分割数据集\n",
    "from sklearn.feature_extraction.text import TfidfVectorizer#用于特征提取\n",
    "from sklearn.feature_extraction.text import CountVectorizer\n",
    "from sklearn.model_selection import GridSearchCV\n",
    "from sklearn.metrics import confusion_matrix\n",
    "from sklearn.metrics import classification_report\n",
    "from sklearn.feature_selection import SelectKBest\n",
    "from sklearn.feature_selection import f_classif\n",
    "#读取数据\n",
    "data=pd.read_excel('社会科学标题数据集-200/data_200_each_discipline.xlsx')\n",
    "data.columns = ['ID','Title','Subject']\n",
    "print(data.head())\n",
    "# 读取title数据\n",
    "title_list=data['Title'].tolist()\n",
    "print(title_list[0:10])\n",
    "# 所有类别(重复)\n",
    "category_list=data['Subject'].tolist()\n",
    "\n",
    "\n"
   ]
  },
  {
   "cell_type": "code",
   "execution_count": 2,
   "metadata": {},
   "outputs": [
    {
     "name": "stdout",
     "output_type": "stream",
     "text": [
      "['统计学', '管理学', '法学', '经济学', '考古学', '新闻传播学', '体育学', '环境科学', '政治学', '哲学', '艺术学', '语言学', '心理学', '教育学', '马克思主义', '历史学', '人文地理', '民族学', '文学', '宗教学', '图书馆、情报与文献学', '社会学']\n"
     ]
    }
   ],
   "source": [
    "#所有类别\n",
    "category=(list(set(category_list)))\n",
    "print(category)"
   ]
  },
  {
   "cell_type": "code",
   "execution_count": 3,
   "metadata": {},
   "outputs": [
    {
     "name": "stderr",
     "output_type": "stream",
     "text": [
      "Building prefix dict from the default dictionary ...\n",
      "Dumping model to file cache C:\\Users\\ADMINI~1\\AppData\\Local\\Temp\\jieba.cache\n",
      "Loading model cost 1.467 seconds.\n",
      "Prefix dict has been built successfully.\n"
     ]
    },
    {
     "name": "stdout",
     "output_type": "stream",
     "text": [
      "['甲午 中日战争 至 甲辰 日俄战争 期间 东北亚 局势', '以 事业 为 己任 — — 记周 光复 教授', '大 饥荒 年代 非正常 死亡 的 另 一种 计算', '鲁迅 小说 中 的 女性 世界', '基于 语料库 的 英汉 光亮 类 词语 研究 ： 认知 语义学 视角', '按摩院 里 盲人 师傅 的 心酸 幽默 话', '骆家辉 : 开动 美国 经济 引擎 的 华裔 部长', '南北朝 时期 民族 迁移 引起 的 语音 变迁 — — 以 晋代 吴方言 的 韵母 为例', '宋代 女性 文学 中 食物 意象 的 审美 文化 阐释 — — 评 《 华夏 饮食文化 》', '一举多得 的 “ 城市 作业本 ”']\n",
      "['人文地理', '人文地理', '人文地理', '人文地理', '人文地理', '人文地理', '人文地理', '人文地理', '人文地理', '人文地理']\n"
     ]
    }
   ],
   "source": [
    "with open ('stop.txt','r',encoding='utf-8') as f:\n",
    "    stopwords=f.read()\n",
    "    stopwords=stopwords.split('\\n')\n",
    "#分词\n",
    "title_list_cut=[]\n",
    "for title in title_list:\n",
    "    word=jieba.lcut(title)\n",
    "    title_list_cut.append(' '.join(word))\n",
    "print(title_list_cut[0:10])\n",
    "print(category_list[0:10])"
   ]
  },
  {
   "cell_type": "code",
   "execution_count": 4,
   "metadata": {},
   "outputs": [
    {
     "name": "stdout",
     "output_type": "stream",
     "text": [
      "['新 媒体 时代 下 新闻 采编 能力 的 自我 培养 与 提升', '清洁 生产 推动 生活 方式 绿色 化', '审视 句读 : 教师 厚积 , 学生 薄发', '试论 大溪 文化 时期 城头 山 住民 的 社会形态', '兰州大学 学生 心理 健康状况 调查 研究', '后 人类 视角 下 后殖民 生态 批评 的 尺度 、 机遇 与 发展', '后排 男孩 : 空间 社会学 视角 下 的 群体 塑造', '谈 科研 与 生产 的 联合', '禅宗 语录 “ 杂 偈 ” 略论', '全球化 时代 物 的 流动 与 明太鱼 ： 一种 理解 东北亚 地域 社会 互动 的 符号']\n"
     ]
    },
    {
     "name": "stderr",
     "output_type": "stream",
     "text": [
      "d:\\Python\\Anaconda3\\lib\\site-packages\\sklearn\\feature_extraction\\text.py:385: UserWarning: Your stop_words may be inconsistent with your preprocessing. Tokenizing the stop words generated tokens ['exp', 'lex', '①①', '①②', '①③', '①④', '①⑤', '①⑥', '①⑦', '①⑧', '①⑨', '①ａ', '①ｂ', '①ｃ', '①ｄ', '①ｅ', '①ｆ', '①ｇ', '①ｈ', '①ｉ', '①ｏ', '②①', '②②', '②③', '②④', '②⑤', '②⑥', '②⑦', '②⑧', '②⑩', '②ａ', '②ｂ', '②ｄ', '②ｅ', '②ｆ', '②ｇ', '②ｈ', '②ｉ', '②ｊ', '③①', '③⑩', '③ａ', '③ｂ', '③ｃ', '③ｄ', '③ｅ', '③ｆ', '③ｇ', '③ｈ', '④ａ', '④ｂ', '④ｃ', '④ｄ', '④ｅ', '⑤ａ', '⑤ｂ', '⑤ｄ', '⑤ｅ', '⑤ｆ', '１２', 'ｌｉ', 'ｚｘｆｉｔｌ'] not in stop_words.\n",
      "  'stop_words.' % sorted(inconsistent))\n"
     ]
    },
    {
     "name": "stdout",
     "output_type": "stream",
     "text": [
      "(3080, 6000)\n",
      "(1320, 6000)\n",
      "  (0, 5613)\t0.4924398692734654\n",
      "  (0, 4803)\t0.3174081825648635\n",
      "  (0, 4783)\t0.312481123714285\n",
      "  (0, 3198)\t0.3017652092962048\n",
      "  (0, 3136)\t0.33200787330501896\n",
      "  (0, 2938)\t0.35929217442409705\n",
      "  (0, 2027)\t0.312481123714285\n",
      "  (0, 1833)\t0.3620549396912278\n",
      "  (1, 4630)\t0.3836084322204651\n",
      "  (1, 4027)\t0.3511657257428597\n",
      "  (1, 4012)\t0.4053306027906634\n",
      "  (1, 3783)\t0.5041602697998635\n",
      "  (1, 3144)\t0.3625696469240194\n",
      "  (2, 3024)\t0.3359501772471933\n",
      "  (2, 2070)\t0.3023392263159441\n",
      "  (3, 5223)\t0.28926260286772276\n",
      "  (3, 4283)\t0.4278499380905775\n",
      "  (3, 3201)\t0.29548752556841756\n",
      "  (3, 3056)\t0.20436548166538002\n",
      "  (3, 1950)\t0.4487736805990335\n",
      "  (3, 1822)\t0.4487736805990335\n",
      "  (3, 739)\t0.4487736805990335\n",
      "  (4, 5287)\t0.34634256149201315\n",
      "  (4, 4233)\t0.15970070649088783\n",
      "  (4, 2611)\t0.35884965439609307\n",
      "  :\t:\n",
      "  (5, 2793)\t0.36339487623748257\n",
      "  (5, 1569)\t0.4630636571142089\n",
      "  (5, 1439)\t0.2173200410478201\n",
      "  (5, 587)\t0.3404567641873472\n",
      "  (6, 5088)\t0.2464826613097044\n",
      "  (6, 4693)\t0.3524172230745401\n",
      "  (6, 4397)\t0.3136011453820391\n",
      "  (6, 4280)\t0.3668369088954512\n",
      "  (6, 4072)\t0.4674497405037387\n",
      "  (6, 1567)\t0.4674497405037387\n",
      "  (7, 4354)\t0.5604913378837707\n",
      "  (7, 4012)\t0.5448533348300815\n",
      "  (8, 5247)\t0.6482961944121334\n",
      "  (8, 4325)\t0.579989185771935\n",
      "  (8, 4089)\t0.4932794225369158\n",
      "  (9, 4436)\t0.2935569112694362\n",
      "  (9, 4272)\t0.18549701829758986\n",
      "  (9, 3987)\t0.2935569112694362\n",
      "  (9, 3210)\t0.3781777329239182\n",
      "  (9, 3198)\t0.23174582288660295\n",
      "  (9, 1789)\t0.33040292965669715\n",
      "  (9, 919)\t0.31789264321929295\n",
      "  (9, 499)\t0.2701178399520719\n",
      "  (9, 284)\t0.3605454745090098\n",
      "  (9, 181)\t0.2802769321728847\n",
      "['新闻传播学', '环境科学', '语言学', '考古学', '心理学', '文学', '教育学', '经济学', '宗教学', '民族学']\n"
     ]
    },
    {
     "name": "stderr",
     "output_type": "stream",
     "text": [
      "d:\\Python\\Anaconda3\\lib\\site-packages\\sklearn\\feature_selection\\_univariate_selection.py:114: UserWarning: Features [0 0 0 ... 0 0 0] are constant.\n",
      "  UserWarning)\n",
      "d:\\Python\\Anaconda3\\lib\\site-packages\\sklearn\\feature_selection\\_univariate_selection.py:115: RuntimeWarning: invalid value encountered in true_divide\n",
      "  f = msb / msw\n",
      "d:\\Python\\Anaconda3\\lib\\site-packages\\sklearn\\feature_selection\\_univariate_selection.py:114: UserWarning: Features [0 0 0 ... 0 0 0] are constant.\n",
      "  UserWarning)\n",
      "d:\\Python\\Anaconda3\\lib\\site-packages\\sklearn\\feature_selection\\_univariate_selection.py:115: RuntimeWarning: invalid value encountered in true_divide\n",
      "  f = msb / msw\n"
     ]
    }
   ],
   "source": [
    "# 进行数据分割\n",
    "x_train,x_test,y_train,y_test=train_test_split(title_list_cut,category_list,test_size=0.3,random_state=22)\n",
    "print(x_train[0:10])\n",
    "# 对数据集进行特征抽取\n",
    "tf = TfidfVectorizer(stop_words=stopwords)#停用词\n",
    "tf.fit(title_list_cut)\n",
    "x_train = tf.transform(x_train)\n",
    "\n",
    "x_test = tf.transform(x_test)\n",
    "\n",
    "\n",
    "# 对数据集进行特征选择\n",
    "f_classif(x_train,y_train)\n",
    "selector = SelectKBest(f_classif, k=6000)\n",
    "selector.fit(x_train, y_train)\n",
    "x_train = selector.transform(x_train)\n",
    "x_test = selector.transform(x_test)\n",
    "\n",
    "print(x_train.shape)\n",
    "print(x_test.shape)\n",
    "\n",
    "print(x_train[0:10])\n",
    "print(y_train[0:10])\n",
    "\n",
    "\n",
    "\n",
    "\n",
    "        \n",
    "\n",
    "\n",
    "\n",
    "\n"
   ]
  },
  {
   "cell_type": "code",
   "execution_count": 5,
   "metadata": {},
   "outputs": [
    {
     "data": {
      "text/plain": [
       "0.30454545454545456"
      ]
     },
     "execution_count": 5,
     "metadata": {},
     "output_type": "execute_result"
    }
   ],
   "source": [
    "# 决策树\n",
    "dtc=tree.DecisionTreeClassifier()\n",
    "dtc.fit(x_train,y_train)\n",
    "\n",
    "dtc.score(x_test,y_test)\n"
   ]
  },
  {
   "cell_type": "code",
   "execution_count": 6,
   "metadata": {},
   "outputs": [
    {
     "data": {
      "text/plain": [
       "0.9941558441558441"
      ]
     },
     "execution_count": 6,
     "metadata": {},
     "output_type": "execute_result"
    }
   ],
   "source": [
    "dtc.score(x_train,y_train)"
   ]
  },
  {
   "cell_type": "code",
   "execution_count": 7,
   "metadata": {},
   "outputs": [
    {
     "data": {
      "text/plain": [
       "GridSearchCV(cv=10, error_score=nan,\n",
       "             estimator=DecisionTreeClassifier(ccp_alpha=0.0, class_weight=None,\n",
       "                                              criterion='gini', max_depth=None,\n",
       "                                              max_features=None,\n",
       "                                              max_leaf_nodes=None,\n",
       "                                              min_impurity_decrease=0.0,\n",
       "                                              min_impurity_split=None,\n",
       "                                              min_samples_leaf=1,\n",
       "                                              min_samples_split=2,\n",
       "                                              min_weight_fraction_leaf=0.0,\n",
       "                                              presort='deprecated',\n",
       "                                              random_state=None,\n",
       "                                              splitter='best'),\n",
       "             iid='deprecated', n_jobs=None,\n",
       "             param_grid={'criterion': ['gini', 'entropy'],\n",
       "                         'max_depth': [100, 150]},\n",
       "             pre_dispatch='2*n_jobs', refit=True, return_train_score=False,\n",
       "             scoring=None, verbose=0)"
      ]
     },
     "execution_count": 7,
     "metadata": {},
     "output_type": "execute_result"
    }
   ],
   "source": [
    "param_grid={\n",
    "    'criterion':['gini','entropy'],\n",
    "    'max_depth':[100,150]\n",
    "}\n",
    "GR=GridSearchCV(tree.DecisionTreeClassifier(),param_grid,cv=10)\n",
    "GR.fit(x_train,y_train)"
   ]
  },
  {
   "cell_type": "code",
   "execution_count": 8,
   "metadata": {},
   "outputs": [
    {
     "data": {
      "text/plain": [
       "{'criterion': 'gini', 'max_depth': 150}"
      ]
     },
     "execution_count": 8,
     "metadata": {},
     "output_type": "execute_result"
    }
   ],
   "source": [
    "GR.best_params_"
   ]
  },
  {
   "cell_type": "code",
   "execution_count": 9,
   "metadata": {},
   "outputs": [
    {
     "data": {
      "text/plain": [
       "0.31136363636363634"
      ]
     },
     "execution_count": 9,
     "metadata": {},
     "output_type": "execute_result"
    }
   ],
   "source": [
    "GR.best_score_"
   ]
  },
  {
   "cell_type": "code",
   "execution_count": 10,
   "metadata": {},
   "outputs": [
    {
     "name": "stderr",
     "output_type": "stream",
     "text": [
      "d:\\Python\\Anaconda3\\lib\\site-packages\\sklearn\\tree\\_classes.py:319: FutureWarning: The parameter 'presort' is deprecated and has no effect. It will be removed in v0.24. You can suppress this warning by not passing any value to the 'presort' parameter.\n",
      "  FutureWarning)\n"
     ]
    },
    {
     "data": {
      "text/plain": [
       "0.30303030303030304"
      ]
     },
     "execution_count": 10,
     "metadata": {},
     "output_type": "execute_result"
    }
   ],
   "source": [
    "#最优模型\n",
    "dtc=tree.DecisionTreeClassifier(criterion='gini',max_depth=500,min_samples_leaf=1,\n",
    "                                min_samples_split=2,presort=True)\n",
    "dtc.fit(x_train,y_train)\n",
    "dtc.score(x_test,y_test)"
   ]
  },
  {
   "cell_type": "code",
   "execution_count": 11,
   "metadata": {},
   "outputs": [
    {
     "data": {
      "text/plain": [
       "0.951948051948052"
      ]
     },
     "execution_count": 11,
     "metadata": {},
     "output_type": "execute_result"
    }
   ],
   "source": [
    "dtc.score(x_train,y_train)"
   ]
  },
  {
   "cell_type": "code",
   "execution_count": 12,
   "metadata": {},
   "outputs": [
    {
     "name": "stdout",
     "output_type": "stream",
     "text": [
      "['艺术学' '管理学' '教育学' ... '政治学' '体育学' '民族学']\n",
      "['艺术学' '管理学' '环境科学' ... '政治学' '体育学' '艺术学']\n",
      "[[16  2  2  6  1  2  3  2  0  1 11  2  8  0  0  0  1  1  0  1  7  0]\n",
      " [ 3 22  3  1  0  0  0  1  1  1  8  1  1  3  0  0  1  1  1  0  5  4]\n",
      " [ 2  2 21  4  0  0  0  2  2  1 13  1  2  1  2  4  0  2  2  1  2  0]\n",
      " [ 7  1  3 10  1  2  1  1  0  1 17  3  3  0  2  1  2  0  0  0  3  2]\n",
      " [ 0  0  2  2  3  0  2  3  1  0 28  2  1  1  0  2  3  0  1  3  0  1]\n",
      " [ 2  1  0  1  0 27  4  1  3  2  5  3  1  0  2  1  0  0  2  0  2  0]\n",
      " [ 1  0  2  2  1  0 23  1  0  0  7  2  1  3  0  0  1  3  2  0  2  1]\n",
      " [ 2  3  2  5  2  0  2 19  0  1  7  2  0  5  0  2  3  4  1  0  2  2]\n",
      " [ 5  5  1  1  0  1  1  1 17  4  5  2  0  1  5  1  4  2  0  0  3  3]\n",
      " [ 0  0  0  2  0  0  0  0  6 22  9  1  1  1  7  0  2  0  3  3  1  0]\n",
      " [ 1  0  0  1  2  3  0  1  0  1 21  3  2  3  2  4  5  1  6  1  1  1]\n",
      " [ 1  1  2  6  4  0  0  1  1  0  6 10  3  5  0  1  1  0  7  1  0  1]\n",
      " [ 5  1  1  2  0  2  3  2  1  0  5  4 24  4  1  3  2  1  1  0  2  1]\n",
      " [ 2  1  2  4  1  1  0  2  0  0  4  3  3 27  3  2  2  1  2  0  1  2]\n",
      " [ 1  0  0  0  0  0  0  0  7  8  7  1  0  0 27  0  0  1  0  1  0  1]\n",
      " [ 0  1  1  1  1  0  4  0  3  5 21  2  3  2  1  3  1  2  1  3  0  1]\n",
      " [ 1  0  1  1  4  0  0  0  4  7 12  8  3  0  1  6  6 11  2  1  0  3]\n",
      " [ 5  1  0  2  2  1  0  1  2  1 12  2  2  3  0  2  2 14  2  3  2  2]\n",
      " [ 2  0  2  2  1  0  2  3  1  1 17  8  2  2  3  2  2  2 20  0  0  2]\n",
      " [ 0  1  1  0  3  2  0  0  2  1 15  0  1  2  0  1  0  2  2 18  1  1]\n",
      " [ 2  1  4  1  0  2  0  3  0  3 11  1  3  0  1  1  0  0  1  0 26  0]\n",
      " [ 1  2  0  0  0  1  0  0  1  2 14  2  3  2  0  0  2  1  2  1  0 24]]\n"
     ]
    }
   ],
   "source": [
    "y_true=np.array(y_test)\n",
    "y_pred=dtc.predict(x_test)\n",
    "\n",
    "print(y_true)\n",
    "print(y_pred)\n",
    "\n",
    "\n",
    "\n",
    "\n",
    "print(confusion_matrix(y_true,y_pred,labels=category))"
   ]
  },
  {
   "cell_type": "code",
   "execution_count": 13,
   "metadata": {},
   "outputs": [
    {
     "name": "stdout",
     "output_type": "stream",
     "text": [
      "              precision    recall  f1-score   support\n",
      "\n",
      "         统计学       0.27      0.24      0.26        66\n",
      "         管理学       0.49      0.39      0.43        57\n",
      "          法学       0.42      0.33      0.37        64\n",
      "         经济学       0.19      0.17      0.18        60\n",
      "         考古学       0.12      0.05      0.07        55\n",
      "       新闻传播学       0.61      0.47      0.53        57\n",
      "         体育学       0.51      0.44      0.47        52\n",
      "        环境科学       0.43      0.30      0.35        64\n",
      "         政治学       0.33      0.27      0.30        62\n",
      "          哲学       0.35      0.38      0.37        58\n",
      "         艺术学       0.08      0.36      0.13        59\n",
      "         语言学       0.16      0.20      0.18        51\n",
      "         心理学       0.36      0.37      0.36        65\n",
      "         教育学       0.42      0.43      0.42        63\n",
      "       马克思主义       0.47      0.50      0.49        54\n",
      "         历史学       0.08      0.05      0.07        56\n",
      "        人文地理       0.15      0.08      0.11        71\n",
      "         民族学       0.29      0.23      0.25        61\n",
      "          文学       0.34      0.27      0.30        74\n",
      "         宗教学       0.49      0.34      0.40        53\n",
      "  图书馆、情报与文献学       0.43      0.43      0.43        60\n",
      "         社会学       0.46      0.41      0.44        58\n",
      "\n",
      "    accuracy                           0.30      1320\n",
      "   macro avg       0.34      0.31      0.31      1320\n",
      "weighted avg       0.34      0.30      0.31      1320\n",
      "\n"
     ]
    }
   ],
   "source": [
    "print(classification_report(y_true,y_pred,labels=category))"
   ]
  },
  {
   "cell_type": "code",
   "execution_count": 19,
   "metadata": {},
   "outputs": [
    {
     "data": {
      "image/png": "[encoded data removed]",
      "text/plain": [
       "<Figure size 576x432 with 2 Axes>"
      ]
     },
     "metadata": {
      "needs_background": "light"
     },
     "output_type": "display_data"
    }
   ],
   "source": [
    "import itertools\n",
    "plt.rcParams['font.sans-serif']=\"SimHei\"\n",
    "plt.rcParams['axes.unicode_minus']=False\n",
    "def plot_confusion_matrix(cm, classes,\n",
    "                          normalize=False,\n",
    "                          title='Confusion matrix',\n",
    "                          cmap=plt.cm.Blues):\n",
    "    plt.figure(figsize=(8,6))\n",
    "    plt.imshow(cm, interpolation='nearest', cmap=cmap)\n",
    "    plt.title(title)\n",
    "    plt.colorbar()\n",
    "    tick_marks = np.arange(len(classes))\n",
    "    plt.xticks(tick_marks, classes, rotation=45)\n",
    "    plt.yticks(tick_marks, classes)\n",
    "\n",
    "    fmt = '.2f' if normalize else 'd'\n",
    "    thresh = cm.max() / 2.\n",
    "    for i, j in itertools.product(range(cm.shape[0]), range(cm.shape[1])):\n",
    "        plt.text(j, i, format(cm[i, j], fmt),\n",
    "                 horizontalalignment=\"center\",\n",
    "                 color=\"white\" if cm[i, j] > thresh else \"black\")\n",
    "\n",
    "    plt.tight_layout()\n",
    "    plt.ylabel('真实标签')\n",
    "    plt.xlabel('预测标签')\n",
    "    plt.show()\n",
    "\n",
    "\n",
    "cm= confusion_matrix(y_test, y_pred)\n",
    "title=\"分类准确率:{:.2f}%\".format(dtc.score(x_test,y_test))\n",
    "plot_confusion_matrix(cm,classes=category,title=title)\n",
    "\n"
   ]
  }
 ],
 "metadata": {
  "interpreter": {
   "hash": "25429dbb76d0c9414b6779ba2f705fe02677cbfbefaaf3a0e0e921f1c53ce1da"
  },
  "kernelspec": {
   "display_name": "Python 3.7.6 ('base')",
   "language": "python",
   "name": "python3"
  },
  "language_info": {
   "codemirror_mode": {
    "name": "ipython",
    "version": 3
   },
   "file_extension": ".py",
   "mimetype": "text/x-python",
   "name": "python",
   "nbconvert_exporter": "python",
   "pygments_lexer": "ipython3",
   "version": "3.7.6"
  },
  "orig_nbformat": 4
 },
 "nbformat": 4,
 "nbformat_minor": 2
}
